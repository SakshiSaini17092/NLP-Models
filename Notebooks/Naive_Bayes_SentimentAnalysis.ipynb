{
  "nbformat": 4,
  "nbformat_minor": 0,
  "metadata": {
    "colab": {
      "name": "A3_SentimentAnalysis",
      "provenance": []
    },
    "kernelspec": {
      "name": "python3",
      "display_name": "Python 3"
    }
  },
  "cells": [
    {
      "cell_type": "code",
      "metadata": {
        "id": "UZ5dMJu1Ma1b",
        "colab": {
          "base_uri": "https://localhost:8080/"
        },
        "outputId": "566affb2-dd22-4e83-bd44-d52bd29d1f74"
      },
      "source": [
        "import numpy as np\n",
        "from sklearn.model_selection import train_test_split\n",
        "from sklearn.metrics import r2_score\n",
        "from sklearn.feature_extraction.text import CountVectorizer\n",
        "import nltk \n",
        "import zipfile\n",
        "import pandas as pd\n",
        "import string\n",
        "import math\n",
        "import re\n",
        "import seaborn as sns\n",
        "\n",
        "nltk.download('stopwords')"
      ],
      "execution_count": null,
      "outputs": [
        {
          "output_type": "stream",
          "text": [
            "[nltk_data] Downloading package stopwords to /root/nltk_data...\n",
            "[nltk_data]   Package stopwords is already up-to-date!\n"
          ],
          "name": "stdout"
        },
        {
          "output_type": "execute_result",
          "data": {
            "text/plain": [
              "True"
            ]
          },
          "metadata": {
            "tags": []
          },
          "execution_count": 1
        }
      ]
    },
    {
      "cell_type": "code",
      "metadata": {
        "id": "xJYpdETnMq1T"
      },
      "source": [
        "# filename = \"sentiment_train.zip\"\n",
        "# with zipfile.ZipFile(filename, 'r') as zip_ref:\n",
        "#     zip_ref.extractall()"
      ],
      "execution_count": null,
      "outputs": []
    },
    {
      "cell_type": "markdown",
      "metadata": {
        "id": "9TsKkACFoqNZ"
      },
      "source": [
        "\n",
        "**Pre Processing**"
      ]
    },
    {
      "cell_type": "code",
      "metadata": {
        "id": "g2qCMNjHM5kv"
      },
      "source": [
        "#### take pos tagged file name as input and \n",
        "# give tokeinsed data and pos tagged as sepetare list\n",
        "def pos_tagged_tokenised(filename):\n",
        "    f = open(filename, 'r')\n",
        "    text = f.read().split('\\n')\n",
        "\n",
        "    tokenised_data = []\n",
        "    pos_tagged_data = []\n",
        "\n",
        "    count = 0\n",
        "    label = []\n",
        "    for data in text:\n",
        "        spl = data.split('\\t')\n",
        "        if ( len(spl) == 4):\n",
        "            tokenised, pos_tags, scores, orignal = spl \n",
        "            tokenised_data.append(tokenised)\n",
        "            pos_tagged_data.append(pos_tags)\n",
        "            label.append(y_train[count])\n",
        "\n",
        "        count += 1\n",
        "    return tokenised_data, pos_tagged_data, np.array(label)"
      ],
      "execution_count": null,
      "outputs": []
    },
    {
      "cell_type": "code",
      "metadata": {
        "id": "ZDxVLudO3Mdh"
      },
      "source": [
        "def preprocessing(X, filename):\n",
        "    text = \"\"\n",
        "    for sent in X:\n",
        "        text += (sent + '\\n') \n",
        "\n",
        "    f = open(filename, 'w')\n",
        "    f.write(text)"
      ],
      "execution_count": null,
      "outputs": []
    },
    {
      "cell_type": "markdown",
      "metadata": {
        "id": "2xE0UKn0od-1"
      },
      "source": [
        "**Features**"
      ]
    },
    {
      "cell_type": "code",
      "metadata": {
        "id": "jgpU1hWhHZf9"
      },
      "source": [
        "# POS: the number of occurrences of each partof-speech tag;\n",
        "def num_pos_tag_occ(pos_tagged_data):\n",
        "    dict_tag = {\n",
        "        'D' : 0, '@' : 1, '&' : 2,\n",
        "        'O' : 3, 'V' : 4, 'A' : 5,\n",
        "        ',' : 6, '^' : 7, 'N' : 8,\n",
        "        'R' : 9, '$' : 10, '!' : 11,\n",
        "        '~' : 12, '.' : 13, 'U' : 14,\n",
        "        'L' : 15, 'E' : 16, 'G' : 17,\n",
        "        '#' : 18, 'T' : 19, 'P' : 20, \n",
        "        'X' : 21, 'Z' : 22, 'S' : 23,\n",
        "        'Y' : 24, 'M' : 25\n",
        "    }\n",
        "    pos_tag_features = []\n",
        "    # print(len(pos_tagged_data))\n",
        "    for tag_sent in pos_tagged_data:\n",
        "\n",
        "        sub_feat = [0]*26\n",
        "        for tag in tag_sent.split(' '):\n",
        "            sub_feat[dict_tag[tag]] += 1\n",
        "        \n",
        "        pos_tag_features.append(sub_feat)\n",
        "    return np.array(pos_tag_features)"
      ],
      "execution_count": null,
      "outputs": []
    },
    {
      "cell_type": "code",
      "metadata": {
        "id": "FJp2mE_7kNah"
      },
      "source": [
        "def num_hashtags(sentences):\n",
        "    hash_feature = []\n",
        "    for sent in sentences:\n",
        "        count = sent.count('#') \n",
        "        hash_feature.append([count])\n",
        "    return np.array(hash_feature)"
      ],
      "execution_count": null,
      "outputs": []
    },
    {
      "cell_type": "code",
      "metadata": {
        "id": "lhYYOVUrdQHX"
      },
      "source": [
        "def all_caps_features(tokenised_data):\n",
        "    cap_feature = []\n",
        "    all_caps_features = []\n",
        "    for token_sent in tokenised_data:\n",
        "        count = 0\n",
        "        for token in token_sent.split(' '):\n",
        "            if (token.isupper()):\n",
        "                count += 1\n",
        "        \n",
        "        all_caps_features.append([count])\n",
        "    return np.array(all_caps_features)"
      ],
      "execution_count": null,
      "outputs": []
    },
    {
      "cell_type": "code",
      "metadata": {
        "id": "-ctIuMYVQfB8"
      },
      "source": [
        "# (NRC EmotionLexicon)\n",
        "def nrc_word_emotion_lexicon(sentences):\n",
        "\n",
        "    f = open('/content/lexicons/lexicons/8. NRC-word-emotion-lexicon.txt')\n",
        "    data = f.read().split('\\n')\n",
        "\n",
        "    mapping = {\n",
        "        'anger' : 0, 'anticipation' : 1, 'disgust' : 2,\n",
        "        'fear' : 3, 'joy': 4, 'negative' : 5, 'positive' : 6,\n",
        "        'sadness' : 7, 'surprise' : 8, 'trust' : 9\n",
        "    } \n",
        "\n",
        "    nrc_word_emotion_dict = {}\n",
        "    for word in data:\n",
        "        spl = word.split('\\t')\n",
        "        if ( len(spl) == 3 ):\n",
        "            word, emotion, score = spl\n",
        "            if ( word not in nrc_word_emotion_dict ):\n",
        "                nrc_word_emotion_dict[word] = [0]*10\n",
        "                nrc_word_emotion_dict[word][mapping[emotion]] = int (score)\n",
        "            else:\n",
        "                nrc_word_emotion_dict[word][mapping[emotion]] = int (score)                \n",
        "\n",
        "    nrc_word_emotion_features = []\n",
        "    for sent in sentences:\n",
        "        total_score = np.array([0]*10)\n",
        "        max_score = 0\n",
        "        for word in sent.split(' '):\n",
        "            if (word in nrc_word_emotion_dict):\n",
        "                total_score = np.add( total_score,nrc_word_emotion_dict[word] )\n",
        "        \n",
        "        max_score = max(total_score)\n",
        "        count_greater = np.count_nonzero(total_score > 0)\n",
        "        el = 0\n",
        "        last_non_zero = total_score[np.nonzero(total_score > 0)]\n",
        "        if ( len(last_non_zero) > 0 ):\n",
        "            el = last_non_zero[-1]\n",
        "\n",
        "        complete_feature = np.concatenate( (total_score, [max_score, count_greater, el]), axis =0 )\n",
        "        nrc_word_emotion_features.append(complete_feature )\n",
        "        \n",
        "    return np.array(nrc_word_emotion_features)"
      ],
      "execution_count": null,
      "outputs": []
    },
    {
      "cell_type": "code",
      "metadata": {
        "id": "JgXzD89oQex8"
      },
      "source": [
        "# MPQA\n",
        "def mpqalexicon(sentences):\n",
        "\n",
        "    f = open('/content/lexicons/lexicons/2. mpqa.txt')\n",
        "    text = f.read().split('\\n')\n",
        "    dict_mpqalexicon = {}\n",
        "\n",
        "    for word in text:\n",
        "        spl = word.split('\\t')\n",
        "        if ( len(spl) == 2 ):\n",
        "            dict_mpqalexicon[spl[0]] = spl[1]\n",
        "\n",
        "    mpqla_features = []\n",
        "    for sent in sentences:\n",
        "        pos_score = 0\n",
        "        neg_score = 0\n",
        "        for word in sent.split(' '):\n",
        "            if (word in dict_mpqalexicon):\n",
        "                if ( dict_mpqalexicon[word] == 'negative' ):\n",
        "                    neg_score += 1\n",
        "                else:\n",
        "                    pos_score += 1\n",
        "        mpqla_features.append([pos_score, neg_score])\n",
        "\n",
        "    return np.array(mpqla_features)"
      ],
      "execution_count": null,
      "outputs": []
    },
    {
      "cell_type": "code",
      "metadata": {
        "id": "623tk5LxQevR"
      },
      "source": [
        "# Bing Liu Lexicon\n",
        "def bingliu_lexicon(sentences):\n",
        "\n",
        "    df = pd.read_csv('/content/lexicons/lexicons/1. BingLiu.csv')\n",
        "    data = df.to_numpy()\n",
        "    bing_liu_dict = {}\n",
        "\n",
        "    for text in data:\n",
        "        spl = text[0].split('\\t')\n",
        "        if ( len(spl) == 2 ):\n",
        "            bing_liu_dict[spl[0]] = spl[1]\n",
        "\n",
        "    bing_liu_features = []\n",
        "    for sent in sentences:\n",
        "        pos_score = 0\n",
        "        neg_score = 0\n",
        "        for word in sent.split(' '):\n",
        "            if (word in bing_liu_dict):\n",
        "                if ( bing_liu_dict[word] == 'negative' ):\n",
        "                    neg_score += 1\n",
        "                else:\n",
        "                    pos_score += 1\n",
        "        bing_liu_features.append([pos_score, neg_score])\n",
        "\n",
        "    return np.array(bing_liu_features)"
      ],
      "execution_count": null,
      "outputs": []
    },
    {
      "cell_type": "code",
      "metadata": {
        "id": "7Wj73B11SNCA"
      },
      "source": [
        "# (Hashtag Sentiment Lexicon)\n",
        "def nrc_hastag_senti(sentences):\n",
        "\n",
        "    f = open('/content/lexicons/lexicons/7. NRC-Hashtag-Sentiment-Lexicon-v0.1/unigrams-pmilexicon.txt')\n",
        "    data = f.read().split('\\n')\n",
        "    \n",
        "    nrc_hashtag_dict = {}\n",
        "    for text in data:\n",
        "        spl = text.split('\\t')\n",
        "        if ( len(spl) == 4 ):\n",
        "            word, score, pos, neg = spl\n",
        "            nrc_hashtag_dict[word] = [score, pos, neg]\n",
        "    \n",
        "    nrc_hashtag_features = []\n",
        "    for sent in sentences:\n",
        "        total_score = 0\n",
        "        pos_score = 0\n",
        "        neg_score = 0\n",
        "        for word in sent.split(' '):\n",
        "            if (word in nrc_hashtag_dict):\n",
        "                total_score += float (nrc_hashtag_dict[word][0])\n",
        "                pos_score += float (nrc_hashtag_dict[word][1])\n",
        "                neg_score += float (nrc_hashtag_dict[word][2])\n",
        "        \n",
        "        nrc_hashtag_features.append([total_score, pos_score, neg_score])\n",
        "        \n",
        "    return np.array(nrc_hashtag_features)"
      ],
      "execution_count": null,
      "outputs": []
    },
    {
      "cell_type": "code",
      "metadata": {
        "id": "dtJ5qE2LSM_S"
      },
      "source": [
        "# Sentiment140 Lexicon\n",
        "def sentiment_140_lexicon(sentences):\n",
        "\n",
        "    f = open('/content/lexicons/lexicons/3. Sentiment140-Lexicon-v0.1/unigrams-pmilexicon.txt')\n",
        "    data = f.read().split('\\n')\n",
        "\n",
        "    senti_dict = {}\n",
        "    for text in data:\n",
        "        spl = text.split('\\t')\n",
        "        if ( len(spl) == 4 ):\n",
        "            word, pos, neg, neu = spl\n",
        "            senti_dict[word] = [pos, neg, neu]\n",
        "\n",
        "    senti_features = []\n",
        "    for sent in sentences:\n",
        "        pos_score = 0\n",
        "        neg_score = 0\n",
        "        neu_score = 0\n",
        "        for word in sent.split(' '):\n",
        "            if (word in senti_dict):\n",
        "                pos_score += float (senti_dict[word][0])\n",
        "                neg_score += float (senti_dict[word][1])\n",
        "                neu_score += float (senti_dict[word][2])\n",
        "        \n",
        "        senti_features.append([pos_score, neg_score, neu_score])\n",
        "        \n",
        "    return np.array(senti_features)"
      ],
      "execution_count": null,
      "outputs": []
    },
    {
      "cell_type": "code",
      "metadata": {
        "id": "7MSvMhS0Pf84"
      },
      "source": [
        "#  punctuation:\n",
        "# – the number of contiguous sequences of\n",
        "# exclamation marks, question marks, and\n",
        "# both exclamation and question marks;\n",
        "# – whether the last token contains an exclamation or question mark\n",
        "\n",
        "def punctuation_features(tokenised_data, pos_tagged_data):\n",
        "    punctuation_feat = []\n",
        "    for token_sent in tokenised_data:\n",
        "        count = 0\n",
        "        for token in token_sent.split(' '):\n",
        "            if (token.find('?') and token.find('!')):\n",
        "                count += 1\n",
        "            if (token.count('?') > 1 or token.count('!') > 1):\n",
        "                count += 1\n",
        "\n",
        "        if (token_sent.split(' ')[-1] == '?' or token_sent.split(' ')[-1] == '!'):\n",
        "            last = 1\n",
        "        else:\n",
        "            last = 0\n",
        "\n",
        "        punctuation_feat.append([count, last])\n",
        "    return np.array(punctuation_feat)"
      ],
      "execution_count": null,
      "outputs": []
    },
    {
      "cell_type": "code",
      "metadata": {
        "id": "UsDhlXVyr5PM"
      },
      "source": [
        "# negation_features_ex(tokenised_data)\n",
        "def negation_features_ex(tokenised_data):\n",
        "\n",
        "    keywordSet = {\"don't\",\"never\", \"nothing\", \"nowhere\", \"noone\", \"none\", \"not\",\n",
        "                \"hasn't\",\"hadn't\",\"can't\",\"couldn't\",\"shouldn't\",\"won't\",\n",
        "                \"wouldn't\",\"don't\",\"doesn't\",\"didn't\",\"isn't\",\"aren't\",\"ain't\"}\n",
        "\n",
        "    negation_features = []\n",
        "    for sentence in tokenised_data:\n",
        "        punct = re.findall(r'[.:;!?]',sentence)\n",
        "        if (len(punct) > 0):\n",
        "            punct = punct[0]\n",
        "            wordSet = { x for x in re.split(\"[.:;!?, ]\",sentence) if x }\n",
        "            \n",
        "            neg_words = wordSet & keywordSet\n",
        "            tagged_sent = sentence\n",
        "            for word in neg_words:\n",
        "                start_to_w = sentence[:sentence.find(word)+len(word)]\n",
        "                w_to_punct =  re.sub(r'\\b([A-Za-z\\']+)\\b',r'\\1_NEG',\n",
        "                                sentence[sentence.find(word)+len(word):sentence.find(punct)])\n",
        "                punct_to_end = sentence[sentence.find(punct):]\n",
        "                tagged_sent = start_to_w + w_to_punct + punct_to_end\n",
        "            negation_features.append(tagged_sent)\n",
        "        else:\n",
        "            negation_features.append(sentence)\n",
        "\n",
        "\n",
        "    negation_feature_count = []\n",
        "\n",
        "    for neg_feat in negation_features:\n",
        "        count = neg_feat.count('_NEG')\n",
        "        negation_feature_count.append([count])\n",
        "\n",
        "    return negation_features, np.array(negation_feature_count)"
      ],
      "execution_count": null,
      "outputs": []
    },
    {
      "cell_type": "code",
      "metadata": {
        "id": "4cPR6lsqM4Wu"
      },
      "source": [
        "# elongated words: the number of words with one\n",
        "# character repeated more than two times, for example, ‘soooo’;\n",
        "\n",
        "def elongated_word_features(tokenised_data):\n",
        "\n",
        "    elongated_word_feature_vec = []\n",
        "\n",
        "    elong_re = re.compile(r\"(.)\\1{2}\")\n",
        "    for tokenised_str in tokenised_data:\n",
        "        count = 0\n",
        "        for word in tokenised_str.split(' '):\n",
        "            if (elong_re.search(word)):\n",
        "                count += 1\n",
        "\n",
        "        elongated_word_feature_vec.append([count])\n",
        "    return np.array(elongated_word_feature_vec)"
      ],
      "execution_count": null,
      "outputs": []
    },
    {
      "cell_type": "code",
      "metadata": {
        "id": "OC6dpTsaSM7z"
      },
      "source": [
        "# total count of tokens in the tweet with\n",
        "# score(w, p) > 0;\n",
        "# total score = P\n",
        "# w∈tweet score(w, p);\n",
        "# – the maximal score =\n",
        "# maxw∈tweetscore(w, p);\n",
        "# – the score of the last token in the tweet with\n",
        "# score(w, p) > 0;\n"
      ],
      "execution_count": null,
      "outputs": []
    },
    {
      "cell_type": "code",
      "metadata": {
        "id": "LuMUVZZoObkb"
      },
      "source": [
        "# emoticons: The polarity of an emoticon was\n",
        "# determined with a regular expression adopted\n",
        "# from Christopher Potts’ tokenizing script:4\n",
        "# – presence or absence of positive and negative emoticons at any position in the tweet;\n",
        "# – whether the last token is a positive or negative emoticon;\n",
        "\n",
        "def afinn_emoticon(sentences):\n",
        "    f = open('/content/lexicons/lexicons/9. AFINN-emoticon-8.txt')\n",
        "    text = f.read().split('\\n')\n",
        "\n",
        "    affin_emoticon_dict = {}\n",
        "    for data in text:\n",
        "        spl = data.split('\\t')\n",
        "        if (len(spl) == 2):\n",
        "            affin_emoticon_dict[spl[0]] = spl[1]\n",
        "\n",
        "    affin_emoticon_features = []\n",
        "    for sent in sentences:\n",
        "        total_score = 0\n",
        "        for word in sent.split(' '):\n",
        "            if (word in affin_emoticon_dict):\n",
        "                total_score += float (affin_emoticon_dict[word])\n",
        "        \n",
        "        affin_emoticon_features.append([total_score])\n",
        "        \n",
        "    return np.array(affin_emoticon_features)"
      ],
      "execution_count": null,
      "outputs": []
    },
    {
      "cell_type": "code",
      "metadata": {
        "id": "032RPNeNiSbP"
      },
      "source": [
        "def get_concatenated_features(tokenised_data, pos_tagged_data):\n",
        "    \n",
        "    ## all-caps features\n",
        "    caps_features = all_caps_features(tokenised_data)\n",
        "    # POS: the number of occurrences of each partof-speech tag;\n",
        "    pos_features = num_pos_tag_occ(pos_tagged_data)\n",
        "    # print(len( pos_features) )\n",
        "    # hashtags: the number of hashtags;\n",
        "    hash_feature = num_hashtags(tokenised_data)\n",
        "    # lexicons:\n",
        "    # (NRC Emotion\n",
        "    # Lexicon, MPQA, Bing Liu Lexicon)\n",
        "    nrc_emotion_feature = nrc_word_emotion_lexicon(tokenised_data)\n",
        "    mpqa_features = mpqalexicon(tokenised_data)\n",
        "    bing_liu_features = bingliu_lexicon(tokenised_data)\n",
        "\n",
        "    #  (Hashtag Sentiment Lexicon and Sentiment140 Lexicon)\n",
        "    nrc_hash_features = nrc_hastag_senti(tokenised_data)\n",
        "    senti_140_features = sentiment_140_lexicon(tokenised_data)\n",
        "\n",
        "    # punctuation:\n",
        "    puntucation_feat = punctuation_features(tokenised_data, pos_tagged_data)\n",
        "    # elongated words\n",
        "    elong_features = elongated_word_features(tokenised_data)\n",
        "    # negation\n",
        "    datat, neg_features = negation_features_ex(tokenised_data)\n",
        "    emoticon_features = afinn_emoticon(tokenised_data)\n",
        "\n",
        "    \n",
        "    # print(caps_features.shape, pos_features.shape, hash_feature.shape, \n",
        "    #       nrc_emotion_feature.shape, mpqa_features.shape, bing_liu_features.shape)\n",
        "    concat_features = np.concatenate((caps_features, pos_features, hash_feature, \n",
        "                              nrc_emotion_feature, mpqa_features, bing_liu_features, \n",
        "                            #   nrc_hash_features, senti_140_features, puntucation_feat, \n",
        "                            #   elong_features,\n",
        "                               neg_features), axis = 1)\n",
        "    \n",
        "    # df = pd.DataFrame(data = {'features' : concat_features}, index = range(0, concat_features.shape[0]))\n",
        "    # df.to_csv('All_features.csv')\n",
        "\n",
        "    return concat_features"
      ],
      "execution_count": null,
      "outputs": []
    },
    {
      "cell_type": "markdown",
      "metadata": {
        "id": "bqilCl0StWtn"
      },
      "source": [
        "**Pre-Processing On Training Data**"
      ]
    },
    {
      "cell_type": "code",
      "metadata": {
        "id": "u4ZukX0bpqH1"
      },
      "source": [
        "### lexicons\n",
        "import zipfile\n",
        "filename = \"lexicons.zip\"\n",
        "with zipfile.ZipFile(filename, 'r') as zip_ref:\n",
        "    zip_ref.extractall()"
      ],
      "execution_count": null,
      "outputs": []
    },
    {
      "cell_type": "code",
      "metadata": {
        "id": "sgr8nvp8MqgM",
        "colab": {
          "base_uri": "https://localhost:8080/"
        },
        "outputId": "df03c68d-9939-4875-ea00-0be307041730"
      },
      "source": [
        "file = \"sentiment_train_subset.csv\"\n",
        "df = pd.read_csv(file)\n",
        "\n",
        "# 1. target: the polarity of the tweet (0 = negative, 2 = neutral, 4 = positive)\n",
        "label = df['0'].to_numpy()\n",
        "text = df['5'].to_numpy()\n",
        "\n",
        "X_train, X_test, y_train, y_test = train_test_split( text, label, test_size=0.2, random_state=42)\n",
        "print(X_train.shape, y_train.shape, X_test.shape, y_test.shape)"
      ],
      "execution_count": null,
      "outputs": [
        {
          "output_type": "stream",
          "text": [
            "(8000,) (8000,) (2000,) (2000,)\n"
          ],
          "name": "stdout"
        }
      ]
    },
    {
      "cell_type": "code",
      "metadata": {
        "id": "CZfUOSZQMqe7",
        "colab": {
          "base_uri": "https://localhost:8080/"
        },
        "outputId": "401e2b61-7aad-405d-ae3b-206d531e16f1"
      },
      "source": [
        "preprocessing(X_train, 'tokenised_train.txt')\n",
        "! java -Xmx500m -jar ark-tweet-nlp-0.3.2.jar 'tokenised_train.txt' >  'pos_file_train.txt'\n",
        "train_tokenised_data, train_pos_tagged_data, train_labels = pos_tagged_tokenised('pos_file_train.txt')\n",
        "\n",
        "preprocessing(X_test, 'tokenised_test.txt')\n",
        "! java -Xmx500m -jar ark-tweet-nlp-0.3.2.jar 'tokenised_test.txt' >  'pos_file_test.txt'\n",
        "test_tokenised_data, test_pos_tagged_data, test_labels = pos_tagged_tokenised('pos_file_test.txt')"
      ],
      "execution_count": null,
      "outputs": [
        {
          "output_type": "stream",
          "text": [
            "Detected text input format\n",
            "Tokenized and tagged 8000 tweets (119264 tokens) in 13.1 seconds: 612.3 tweets/sec, 9127.8 tokens/sec\n",
            "Detected text input format\n",
            "Tokenized and tagged 2000 tweets (29484 tokens) in 5.0 seconds: 402.0 tweets/sec, 5926.4 tokens/sec\n"
          ],
          "name": "stdout"
        }
      ]
    },
    {
      "cell_type": "markdown",
      "metadata": {
        "id": "gxQL0qQqRakZ"
      },
      "source": [
        "**Training Prepration**"
      ]
    },
    {
      "cell_type": "code",
      "metadata": {
        "id": "7a9tq4dxtNfv"
      },
      "source": [
        "stopwords = nltk.corpus.stopwords.words('english')\n",
        "cv = CountVectorizer(analyzer='word', ngram_range=(1,1), \n",
        "                    stop_words= stopwords.extend(list (string.punctuation)))\n",
        "\n",
        "### unigram features\n",
        "ngram_features_uni = cv.fit_transform(train_tokenised_data).toarray()\n",
        "\n",
        "### unigram features\n",
        "cv2 = CountVectorizer(analyzer='word', ngram_range=(2,2), \n",
        "                    stop_words= stopwords.extend(list (string.punctuation)))\n",
        "ngram_features_bi = cv2.fit_transform(train_tokenised_data).toarray()"
      ],
      "execution_count": null,
      "outputs": []
    },
    {
      "cell_type": "code",
      "metadata": {
        "id": "u6OVQXsGQerj"
      },
      "source": [
        "training_features = get_concatenated_features(train_tokenised_data, train_pos_tagged_data)"
      ],
      "execution_count": null,
      "outputs": []
    },
    {
      "cell_type": "markdown",
      "metadata": {
        "id": "PGtdPdYvsp98"
      },
      "source": [
        "**Model Training**"
      ]
    },
    {
      "cell_type": "code",
      "metadata": {
        "id": "PjpBx9FMNBKC",
        "colab": {
          "base_uri": "https://localhost:8080/"
        },
        "outputId": "4fb8c6c7-44b6-4db3-f51d-464f4dcc8b27"
      },
      "source": [
        "from sklearn.svm import SVC\n",
        "from sklearn.metrics import accuracy_score\n",
        "svm_classifier = SVC(kernel='linear', \n",
        "                     cache_size=1024)\n",
        "svm_classifier.fit(training_features, train_labels)"
      ],
      "execution_count": null,
      "outputs": [
        {
          "output_type": "execute_result",
          "data": {
            "text/plain": [
              "SVC(C=1.0, break_ties=False, cache_size=1024, class_weight=None, coef0=0.0,\n",
              "    decision_function_shape='ovr', degree=3, gamma='scale', kernel='linear',\n",
              "    max_iter=-1, probability=False, random_state=None, shrinking=True,\n",
              "    tol=0.001, verbose=False)"
            ]
          },
          "metadata": {
            "tags": []
          },
          "execution_count": 24
        }
      ]
    },
    {
      "cell_type": "code",
      "metadata": {
        "id": "frAZxuaP4MNJ",
        "colab": {
          "base_uri": "https://localhost:8080/"
        },
        "outputId": "8a14ffcc-2d96-4e63-e9cc-864af7ce15b1"
      },
      "source": [
        "### Decision Tree Regressor\n",
        "from sklearn.tree import DecisionTreeClassifier\n",
        "\n",
        "decision_tree_model = DecisionTreeClassifier(max_depth= 6)\n",
        "decision_tree_model.fit(training_features, train_labels)"
      ],
      "execution_count": null,
      "outputs": [
        {
          "output_type": "execute_result",
          "data": {
            "text/plain": [
              "DecisionTreeClassifier(ccp_alpha=0.0, class_weight=None, criterion='gini',\n",
              "                       max_depth=6, max_features=None, max_leaf_nodes=None,\n",
              "                       min_impurity_decrease=0.0, min_impurity_split=None,\n",
              "                       min_samples_leaf=1, min_samples_split=2,\n",
              "                       min_weight_fraction_leaf=0.0, presort='deprecated',\n",
              "                       random_state=None, splitter='best')"
            ]
          },
          "metadata": {
            "tags": []
          },
          "execution_count": 25
        }
      ]
    },
    {
      "cell_type": "code",
      "metadata": {
        "id": "6dlVydsMFIt0",
        "colab": {
          "base_uri": "https://localhost:8080/"
        },
        "outputId": "69f5400a-1d60-4a51-b0ae-6b62a7d02364"
      },
      "source": [
        "from sklearn.neural_network import MLPClassifier\n",
        "\n",
        "mlp_classifier = MLPClassifier(random_state=1, max_iter = 300, \n",
        "                                  early_stopping = True, warm_start = True\n",
        "                                  , learning_rate_init = 0.1, solver = 'sgd', validation_fraction = 0.2)\n",
        "mlp_classifier.fit(training_features, train_labels)"
      ],
      "execution_count": null,
      "outputs": [
        {
          "output_type": "execute_result",
          "data": {
            "text/plain": [
              "MLPClassifier(activation='relu', alpha=0.0001, batch_size='auto', beta_1=0.9,\n",
              "              beta_2=0.999, early_stopping=True, epsilon=1e-08,\n",
              "              hidden_layer_sizes=(100,), learning_rate='constant',\n",
              "              learning_rate_init=0.1, max_fun=15000, max_iter=300, momentum=0.9,\n",
              "              n_iter_no_change=10, nesterovs_momentum=True, power_t=0.5,\n",
              "              random_state=1, shuffle=True, solver='sgd', tol=0.0001,\n",
              "              validation_fraction=0.2, verbose=False, warm_start=True)"
            ]
          },
          "metadata": {
            "tags": []
          },
          "execution_count": 26
        }
      ]
    },
    {
      "cell_type": "markdown",
      "metadata": {
        "id": "hil1dZonuKBw"
      },
      "source": [
        "**Model Testing on Sample Data**"
      ]
    },
    {
      "cell_type": "code",
      "metadata": {
        "id": "PbAcN-KSNBGs",
        "colab": {
          "base_uri": "https://localhost:8080/"
        },
        "outputId": "c420165d-f9ab-4142-ac64-7685ee717c77"
      },
      "source": [
        "features_test = get_concatenated_features(test_tokenised_data, test_pos_tagged_data)\n",
        "\n",
        "pred_svm = svm_classifier.predict(features_test)\n",
        "accuracy_score(test_labels, pred_svm)"
      ],
      "execution_count": null,
      "outputs": [
        {
          "output_type": "stream",
          "text": [
            "(2000, 1) (2000, 26) (2000, 1) (2000, 10) (2000, 2) (2000, 2)\n"
          ],
          "name": "stdout"
        },
        {
          "output_type": "execute_result",
          "data": {
            "text/plain": [
              "0.492"
            ]
          },
          "metadata": {
            "tags": []
          },
          "execution_count": 27
        }
      ]
    },
    {
      "cell_type": "code",
      "metadata": {
        "id": "CxmQzPW5oVTw",
        "colab": {
          "base_uri": "https://localhost:8080/"
        },
        "outputId": "26c48b17-2e42-41ca-dbd9-3de255b88b88"
      },
      "source": [
        "pred_dtree = decision_tree_model.predict(features_test)\n",
        "accuracy_score(test_labels, pred_dtree)"
      ],
      "execution_count": null,
      "outputs": [
        {
          "output_type": "execute_result",
          "data": {
            "text/plain": [
              "0.4945"
            ]
          },
          "metadata": {
            "tags": []
          },
          "execution_count": 28
        }
      ]
    },
    {
      "cell_type": "code",
      "metadata": {
        "id": "eU6BO1XBFIqG",
        "colab": {
          "base_uri": "https://localhost:8080/"
        },
        "outputId": "6b221dff-ca8b-4b26-9fe8-f9499958a831"
      },
      "source": [
        "pred_mlp = mlp_classifier.predict(features_test)\n",
        "accuracy_score(test_labels, pred_mlp)"
      ],
      "execution_count": null,
      "outputs": [
        {
          "output_type": "execute_result",
          "data": {
            "text/plain": [
              "0.4855"
            ]
          },
          "metadata": {
            "tags": []
          },
          "execution_count": 29
        }
      ]
    },
    {
      "cell_type": "markdown",
      "metadata": {
        "id": "0fxfkttLvB2w"
      },
      "source": [
        "**Saving Models**"
      ]
    },
    {
      "cell_type": "code",
      "metadata": {
        "id": "AJtrSSPblLyc"
      },
      "source": [
        "import pickle\n",
        "pickle.dump(svm_classifier, open('svm_classifier', 'wb'))\n",
        "pickle.dump(decision_tree_model, open('dtree_classifier', 'wb'))\n",
        "pickle.dump(mlp_classifier, open('mlp_classifier', 'wb'))"
      ],
      "execution_count": null,
      "outputs": []
    },
    {
      "cell_type": "markdown",
      "metadata": {
        "id": "8CsUTxtiGAa9"
      },
      "source": [
        "**Submission**"
      ]
    },
    {
      "cell_type": "code",
      "metadata": {
        "id": "heLt3jyUwnQW"
      },
      "source": [
        "filename = \"sentiment_test.zip\"\n",
        "with zipfile.ZipFile(filename, 'r') as zip_ref:\n",
        "    zip_ref.extractall()"
      ],
      "execution_count": null,
      "outputs": []
    },
    {
      "cell_type": "code",
      "metadata": {
        "id": "wrbi31YDwnNs"
      },
      "source": [
        "def test_submission():\n",
        "    df = pd.read_csv('sentiment_test.csv')\n",
        "    gold_labels = df['0'].to_numpy()\n",
        "    test_tweets = df['5'].to_numpy()\n",
        "\n",
        "    f = open('test_text.txt', 'w')\n",
        "    text = \"\"\n",
        "    for tweet in test_tweets:\n",
        "        text += (tweet + '\\n')\n",
        "\n",
        "    f.write(text)\n",
        "    return gold_labels"
      ],
      "execution_count": null,
      "outputs": []
    },
    {
      "cell_type": "code",
      "metadata": {
        "id": "PC0tXuwIFY2H"
      },
      "source": [
        "def pos_tagged_submission(filename, gold_labels):\n",
        "    f = open(filename, 'r')\n",
        "    text = f.read().split('\\n')\n",
        "    tokenised_data = []\n",
        "    pos_tagged_data = []\n",
        "    labels = []\n",
        "    count = 0\n",
        "    for data in text:\n",
        "        spl = data.split('\\t')\n",
        "        if ( len(spl) == 4):\n",
        "            tokenised_data.append(spl[0])\n",
        "            pos_tagged_data.append(spl[1])\n",
        "            labels.append(gold_labels[count])\n",
        "        count += 1\n",
        "    return np.array(tokenised_data), np.array(pos_tagged_data), np.array(labels)"
      ],
      "execution_count": null,
      "outputs": []
    },
    {
      "cell_type": "markdown",
      "metadata": {
        "id": "e4kgxYX2seIs"
      },
      "source": [
        "**Testing Data Pre-Processing and Feature Generation**"
      ]
    },
    {
      "cell_type": "code",
      "metadata": {
        "id": "3IilEj8ZFYyh"
      },
      "source": [
        "# pos_tagged_test_submission.txt already downloaded\n",
        "gold_labels = test_submission()\n",
        "# ! java -Xmx500m -jar ark-tweet-nlp-0.3.2.jar test_text.txt > pos_tagged_test_submission.txt\n",
        "sub_test_tokenised_data, tes_pos_tagged_data, y_test = pos_tagged_submission('pos_tagged_test_submission.txt', gold_labels)"
      ],
      "execution_count": null,
      "outputs": []
    },
    {
      "cell_type": "code",
      "metadata": {
        "id": "disJ_Nz3YF6_",
        "colab": {
          "base_uri": "https://localhost:8080/"
        },
        "outputId": "2288ba5b-bf05-4c5d-986b-850efd3b8050"
      },
      "source": [
        "submission_feature_set = get_concatenated_features(sub_test_tokenised_data, tes_pos_tagged_data)"
      ],
      "execution_count": null,
      "outputs": [
        {
          "output_type": "stream",
          "text": [
            "(479933, 1) (479933, 26) (479933, 1) (479933, 10) (479933, 2) (479933, 2)\n"
          ],
          "name": "stdout"
        }
      ]
    },
    {
      "cell_type": "markdown",
      "metadata": {
        "id": "PhySrgLQzXWC"
      },
      "source": [
        "**Evaluation Script**"
      ]
    },
    {
      "cell_type": "code",
      "metadata": {
        "id": "N52inbskzWmw"
      },
      "source": [
        "def accuracy_score(y_test, y_pred):\n",
        "    n = len(y_test)\n",
        "    count = 0\n",
        "    for i in range(n):\n",
        "        if (y_test[i] == y_pred[i]):\n",
        "            count += 1\n",
        "    return count/n"
      ],
      "execution_count": null,
      "outputs": []
    },
    {
      "cell_type": "code",
      "metadata": {
        "id": "Blt4W35Cz2kO"
      },
      "source": [
        "def confusion_matrix(y_test, y_pred):\n",
        "    ## considering 4 as negative class\n",
        "    matrix = np.zeros((2,2))\n",
        "    n = len(y_test)\n",
        "            # predicted\n",
        "    # actual  4   0\n",
        "    # 4\n",
        "    # 0\n",
        "    for i in range(n):\n",
        "        if (y_test[i] == y_pred[i] and y_test[i] == 4):\n",
        "            matrix[0][0] += 1\n",
        "        \n",
        "        elif (y_test[i] == y_pred[i] and y_test[i] == 0):\n",
        "            matrix[1][1] += 1\n",
        "        \n",
        "        elif (y_test[i] == 4 and y_pred[i] == 0):\n",
        "            matrix[0][1] += 1\n",
        "        else:\n",
        "            matrix[1][0] += 1\n",
        "    return matrix"
      ],
      "execution_count": null,
      "outputs": []
    },
    {
      "cell_type": "code",
      "metadata": {
        "id": "ZOAG5nLs419K"
      },
      "source": [
        "def precision_recall_f1_score(matrix):\n",
        "\n",
        "    recall = matrix[1][1]/(matrix[1][1] + matrix[1][0])\n",
        "    precision = matrix[1][1]/(matrix[1][1] + matrix[0][1])\n",
        "\n",
        "    f1_score1 = 2*(recall*precision)/(precision + recall)\n",
        "    print(\"For Negative class \", \"recall\", recall, \" precision \",precision)\n",
        "    print(\"F1 Score for Neg class\", f1_score1)\n",
        "\n",
        "    recall2 = matrix[0][0]/(matrix[0][0] + matrix[0][1])\n",
        "    precision2 = matrix[0][0]/(matrix[0][0] + matrix[1][0])\n",
        "    f1_score2 = 2*(recall2*precision2)/(precision2 + recall2)\n",
        "\n",
        "    print(\"For Positive class \", \"recall\", recall2, \" precision \",precision2)\n",
        "    print(\"F1 Score for Pos Class\", f1_score2)\n",
        "\n",
        "    # macro-average F1 score.\n",
        "    macro = (f1_score1 + f1_score2)/2\n",
        "    print(\"Macro Averge F1 Score\", macro)\n"
      ],
      "execution_count": null,
      "outputs": []
    },
    {
      "cell_type": "markdown",
      "metadata": {
        "id": "BCy3CBUGsTyB"
      },
      "source": [
        "**Predicting and Saving Predictions on Testing Data**"
      ]
    },
    {
      "cell_type": "code",
      "metadata": {
        "id": "6jznf87aTUck",
        "colab": {
          "base_uri": "https://localhost:8080/",
          "height": 372
        },
        "outputId": "c5a0b474-34a3-41b7-ca4d-853e9273cbc3"
      },
      "source": [
        "pred_svm = svm_classifier.predict(submission_feature_set)\n",
        "acc = accuracy_score(y_test, pred_svm)\n",
        "matrix = consusion_matrix(y_test, pred_svm)\n",
        "precision_recall_f1_score(matrix)\n",
        "\n",
        "sns.heatmap(matrix, annot=True)\n",
        "print(\"accuracy on submission svm Model : \", acc)\n",
        "\n",
        "## downloaded\n",
        "# df = pd.DataFrame({'svm': pred_svm})\n",
        "# df.to_csv('predictions_svm.csv')"
      ],
      "execution_count": null,
      "outputs": [
        {
          "output_type": "stream",
          "text": [
            "For Negative class  recall 0.6124437122919393  precision  0.7091642338770194\n",
            "F1 Score for Neg class 0.6572647770154759\n",
            "For Positive class  recall 0.7504859611231102  precision  0.6609371570707441\n",
            "F1 Score for Pos Class 0.7028708133971291\n",
            "Macro Averge F1 Score 0.6800677952063026\n",
            "accuracy on submission svm Model :  0.6816930696576398\n"
          ],
          "name": "stdout"
        },
        {
          "output_type": "display_data",
          "data": {
            "image/png": "[encoded data removed]",
            "text/plain": [
              "<Figure size 432x288 with 2 Axes>"
            ]
          },
          "metadata": {
            "tags": [],
            "needs_background": "light"
          }
        }
      ]
    },
    {
      "cell_type": "code",
      "metadata": {
        "id": "W93JL-JJIVBX",
        "colab": {
          "base_uri": "https://localhost:8080/",
          "height": 371
        },
        "outputId": "5ff18560-4f59-46d9-ff07-2d4ebe45607b"
      },
      "source": [
        "pred_dtree = decision_tree_model.predict(submission_feature_set)\n",
        "acc = accuracy_score(y_test, pred_dtree)\n",
        "matrix = consusion_matrix(y_test, pred_dtree)\n",
        "precision_recall_f1_score(matrix)\n",
        "\n",
        "sns.heatmap(matrix, annot=True)\n",
        "\n",
        "print(\"accuracy on submission Decision Tree Model : \", acc)\n",
        "\n",
        "## downloaded\n",
        "# df = pd.DataFrame({'dtree': pred_dtree})\n",
        "# df.to_csv('predictions_dtree.csv')\n",
        "# 0.6553414747475168"
      ],
      "execution_count": null,
      "outputs": [
        {
          "output_type": "stream",
          "text": [
            "For Negative class  recall 0.5546738135157396  precision  0.6901623140151909\n",
            "F1 Score for Neg class 0.6150447503784252\n",
            "For Positive class  recall 0.752629174281442  precision  0.6298047012126667\n",
            "F1 Score for Pos Class 0.6857606727306788\n",
            "Macro Averge F1 Score 0.650402711554552\n",
            "accuracy on submission Decision Tree Model :  0.6539787845386752\n"
          ],
          "name": "stdout"
        },
        {
          "output_type": "display_data",
          "data": {
            "image/png": "[encoded data removed]",
            "text/plain": [
              "<Figure size 432x288 with 2 Axes>"
            ]
          },
          "metadata": {
            "tags": [],
            "needs_background": "light"
          }
        }
      ]
    },
    {
      "cell_type": "code",
      "metadata": {
        "id": "Cf0ir_GqYGwB",
        "colab": {
          "base_uri": "https://localhost:8080/",
          "height": 369
        },
        "outputId": "aaaefd75-5136-4437-9c80-9df88957e520"
      },
      "source": [
        "pred_mlp = mlp_classifier.predict(submission_feature_set)\n",
        "acc = accuracy_score(y_test, pred_mlp)\n",
        "matrix = consusion_matrix(y_test, pred_mlp)\n",
        "precision_recall_f1_score(matrix)\n",
        "\n",
        "sns.heatmap(matrix, annot=True)\n",
        "\n",
        "print(\"accuracy on submission MLP Model : \", acc)\n",
        "\n",
        "## downloaded\n",
        "# df = pd.DataFrame({'mlp': pred_mlp})\n",
        "# df.to_csv('predictions_mlp.csv')\n",
        "# 0.6818243379805098"
      ],
      "execution_count": null,
      "outputs": [
        {
          "output_type": "stream",
          "text": [
            "For Negative class  recall 0.5537916069121515  precision  0.7307615915962307\n",
            "F1 Score for Neg class 0.6300862222750788\n",
            "For Positive class  recall 0.7973085230104668  precision  0.6426923707902411\n",
            "F1 Score for Pos Class 0.7116997039527956\n",
            "Macro Averge F1 Score 0.6708929631139372\n",
            "accuracy on submission MLP Model :  0.6759526850622899\n"
          ],
          "name": "stdout"
        },
        {
          "output_type": "display_data",
          "data": {
            "image/png": "[encoded data removed]",
            "text/plain": [
              "<Figure size 432x288 with 2 Axes>"
            ]
          },
          "metadata": {
            "tags": [],
            "needs_background": "light"
          }
        }
      ]
    },
    {
      "cell_type": "code",
      "metadata": {
        "id": "dEmiy2LUw3kE"
      },
      "source": [
        ""
      ],
      "execution_count": null,
      "outputs": []
    },
    {
      "cell_type": "code",
      "metadata": {
        "id": "IMqHiUSvXtot"
      },
      "source": [
        ""
      ],
      "execution_count": null,
      "outputs": []
    }
  ]
}